{
 "cells": [
  {
   "cell_type": "code",
   "execution_count": 1,
   "metadata": {},
   "outputs": [
    {
     "name": "stderr",
     "output_type": "stream",
     "text": [
      "/Library/Frameworks/Python.framework/Versions/3.12/lib/python3.12/site-packages/sentence_transformers/cross_encoder/CrossEncoder.py:11: TqdmWarning: IProgress not found. Please update jupyter and ipywidgets. See https://ipywidgets.readthedocs.io/en/stable/user_install.html\n",
      "  from tqdm.autonotebook import tqdm, trange\n"
     ]
    }
   ],
   "source": [
    "import pandas as pd\n",
    "from sklearn.decomposition import PCA\n",
    "from sentence_transformers import SentenceTransformer, util\n",
    "import numpy as np\n",
    "from sklearn.metrics import accuracy_score, precision_score, recall_score, f1_score, classification_report\n",
    "import random\n",
    "from scipy.stats import pearsonr\n",
    "from transformers import pipeline\n",
    "import pandas as pd\n",
    "import numpy as np\n",
    "from sklearn.metrics import accuracy_score, precision_score, recall_score, f1_score, classification_report"
   ]
  },
  {
   "cell_type": "code",
   "execution_count": 2,
   "metadata": {},
   "outputs": [
    {
     "name": "stderr",
     "output_type": "stream",
     "text": [
      "/Library/Frameworks/Python.framework/Versions/3.12/lib/python3.12/site-packages/huggingface_hub/file_download.py:1150: FutureWarning: `resume_download` is deprecated and will be removed in version 1.0.0. Downloads always resume when possible. If you want to force a new download, use `force_download=True`.\n",
      "  warnings.warn(\n"
     ]
    }
   ],
   "source": [
    "model = SentenceTransformer('all-MiniLM-L6-v2')"
   ]
  },
  {
   "cell_type": "code",
   "execution_count": 3,
   "metadata": {},
   "outputs": [],
   "source": [
    "classifier = pipeline(\"zero-shot-classification\", model=\"facebook/bart-large-mnli\")\n"
   ]
  },
  {
   "cell_type": "code",
   "execution_count": 4,
   "metadata": {},
   "outputs": [],
   "source": [
    "file_name = \"09-07-2017 audio_6 APCNV-2016-565_labeled.csv\"\n",
    "meeting = pd.read_csv(file_name)"
   ]
  },
  {
   "cell_type": "code",
   "execution_count": 5,
   "metadata": {},
   "outputs": [],
   "source": [
    "sentences = meeting[\"text\"].tolist()\n",
    "labels = meeting[\"label\"].tolist()\n",
    "for_labels = [1 if label == 1 else 0 for label in labels]\n",
    "neg_labels = [1 if label == -1 else 0 for label in labels]\n",
    "\n"
   ]
  },
  {
   "cell_type": "code",
   "execution_count": 6,
   "metadata": {},
   "outputs": [],
   "source": [
    "sentences_embeddings = model.encode(sentences)"
   ]
  },
  {
   "cell_type": "code",
   "execution_count": 8,
   "metadata": {},
   "outputs": [],
   "source": [
    "def find_similar_sentences(topic_sentences, sentence_embeddings, sentences, threshold=0.6):\n",
    "    similar_sentences = []\n",
    "    topic_sentence_embedding = model.encode(topic_sentences)\n",
    "    \n",
    "    for i, sentence_embedding in enumerate(sentence_embeddings):\n",
    "        cos_similarity_ls = [\n",
    "            util.pytorch_cos_sim(sentence_embedding, topic_embedding).item()\n",
    "            for topic_embedding in topic_sentence_embedding\n",
    "        ]\n",
    "        \n",
    "        if any(val > threshold for val in cos_similarity_ls):\n",
    "            similar_sentences.append(1)\n",
    "        else:\n",
    "            similar_sentences.append(0)\n",
    "    \n",
    "    return similar_sentences\n"
   ]
  },
  {
   "cell_type": "code",
   "execution_count": 9,
   "metadata": {},
   "outputs": [],
   "source": [
    "topic_sentence = [\n",
    "  \"commissioner vote\",\n",
    "  \"official vote\",\n",
    "]\n",
    "\n",
    "threshold = 0.3\n",
    "similar_sentences = find_similar_sentences(topic_sentence, sentences_embeddings, sentences, threshold)"
   ]
  },
  {
   "cell_type": "code",
   "execution_count": 10,
   "metadata": {},
   "outputs": [
    {
     "data": {
      "text/plain": [
       "[0,\n",
       " 0,\n",
       " 1,\n",
       " 0,\n",
       " 1,\n",
       " 0,\n",
       " 0,\n",
       " 0,\n",
       " 0,\n",
       " 0,\n",
       " 0,\n",
       " 0,\n",
       " 0,\n",
       " 0,\n",
       " 0,\n",
       " 0,\n",
       " 0,\n",
       " 0,\n",
       " 0,\n",
       " 0,\n",
       " 0,\n",
       " 0,\n",
       " 0,\n",
       " 0,\n",
       " 0,\n",
       " 0,\n",
       " 0,\n",
       " 0,\n",
       " 0,\n",
       " 0,\n",
       " 0,\n",
       " 0,\n",
       " 0,\n",
       " 0,\n",
       " 0,\n",
       " 0,\n",
       " 0,\n",
       " 0,\n",
       " 1,\n",
       " 0,\n",
       " 0,\n",
       " 0,\n",
       " 0,\n",
       " 0,\n",
       " 1,\n",
       " 0,\n",
       " 1,\n",
       " 0,\n",
       " 1,\n",
       " 0,\n",
       " 0,\n",
       " 0,\n",
       " 0,\n",
       " 0,\n",
       " 0,\n",
       " 0,\n",
       " 0,\n",
       " 0,\n",
       " 0,\n",
       " 0,\n",
       " 1,\n",
       " 0,\n",
       " 0,\n",
       " 0,\n",
       " 0]"
      ]
     },
     "execution_count": 10,
     "metadata": {},
     "output_type": "execute_result"
    }
   ],
   "source": [
    "similar_sentences"
   ]
  },
  {
   "cell_type": "code",
   "execution_count": 20,
   "metadata": {},
   "outputs": [],
   "source": [
    "hypothesis = [\"This person supports the measure\", \"This person opposes the measure\", \"This person neither supports nor opposes the measure\"]\n",
    "\n",
    "threshold_classifier = 0.7\n",
    "# for_prob = []\n",
    "# against_prob = []\n",
    "# neither_prob = []\n",
    "results_ls = []\n",
    "for i, sentence in enumerate(sentences):\n",
    "  if similar_sentences[i] == 1:\n",
    "    # for_prob.append(0)\n",
    "    # against_prob.append(0)\n",
    "    # neither_prob.append(1)\n",
    "    results_ls.append([0, 0, 1])\n",
    "  else:\n",
    "    results = classifier(sentence, candidate_labels=hypothesis)\n",
    "\n",
    "    # for_prob.append(results['scores'][0])\n",
    "    # against_prob.append(results['scores'][1])\n",
    "    # neither_prob.append(results['scores'][2])\n",
    "    results_ls.append(results['scores'])\n",
    "\n",
    "\n",
    "  # threshold = 0.7  # You can adjust this threshold\n",
    "  # predicted_labels = [1 if result['scores'][0] > threshold_classifier else 0 for result in results]\n",
    "  \n",
    "  # predicted_prob_labels = [round(result['scores'][0], 2) for result in results]\n"
   ]
  },
  {
   "cell_type": "code",
   "execution_count": 21,
   "metadata": {},
   "outputs": [
    {
     "data": {
      "text/plain": [
       "{'sequence': '452',\n",
       " 'labels': ['This person supports the measure',\n",
       "  'This person opposes the measure',\n",
       "  'This person neither supports nor opposes the measure'],\n",
       " 'scores': [0.4400576651096344, 0.39921900629997253, 0.1607232689857483]}"
      ]
     },
     "execution_count": 21,
     "metadata": {},
     "output_type": "execute_result"
    }
   ],
   "source": [
    "results"
   ]
  },
  {
   "cell_type": "code",
   "execution_count": 23,
   "metadata": {},
   "outputs": [
    {
     "data": {
      "text/plain": [
       "[0.02843320555984974,\n",
       " 0.012711365707218647,\n",
       " 1,\n",
       " 0.12903077900409698,\n",
       " 1,\n",
       " 0.2233685851097107,\n",
       " 0.1481534093618393,\n",
       " 0.12724286317825317,\n",
       " 0.2233685851097107,\n",
       " 0.08027182519435883,\n",
       " 0.2233685851097107,\n",
       " 0.17576928436756134,\n",
       " 0.21160142123699188,\n",
       " 0.07237844169139862,\n",
       " 0.1266041249036789,\n",
       " 0.129686638712883,\n",
       " 0.16279146075248718,\n",
       " 0.09606599062681198,\n",
       " 0.02881716750562191,\n",
       " 0.04284099116921425,\n",
       " 0.12782692909240723,\n",
       " 0.045281752943992615,\n",
       " 0.08274385333061218,\n",
       " 0.16851501166820526,\n",
       " 0.04607558622956276,\n",
       " 0.1410328894853592,\n",
       " 0.2233685851097107,\n",
       " 0.21731677651405334,\n",
       " 0.2465946227312088,\n",
       " 0.06886359304189682,\n",
       " 0.24223387241363525,\n",
       " 0.021249817684292793,\n",
       " 0.12749657034873962,\n",
       " 0.10303936153650284,\n",
       " 0.11493764072656631,\n",
       " 0.012998492456972599,\n",
       " 0.02374492958188057,\n",
       " 0.015950163826346397,\n",
       " 1,\n",
       " 0.016785575076937675,\n",
       " 0.015918076038360596,\n",
       " 0.2174363136291504,\n",
       " 0.03287072479724884,\n",
       " 0.13185814023017883,\n",
       " 1,\n",
       " 0.016133559867739677,\n",
       " 1,\n",
       " 0.2241649031639099,\n",
       " 1,\n",
       " 0.06113816425204277,\n",
       " 0.026666229590773582,\n",
       " 0.242866650223732,\n",
       " 0.06390798091888428,\n",
       " 0.0026836390607059,\n",
       " 0.04607558622956276,\n",
       " 0.2233685851097107,\n",
       " 0.08521740138530731,\n",
       " 0.04957028850913048,\n",
       " 0.07838116586208344,\n",
       " 0.1044931635260582,\n",
       " 1,\n",
       " 0.1373559981584549,\n",
       " 0.021016482263803482,\n",
       " 0.10656265169382095,\n",
       " 0.1607232689857483]"
      ]
     },
     "execution_count": 23,
     "metadata": {},
     "output_type": "execute_result"
    }
   ],
   "source": [
    "neither_prob"
   ]
  }
 ],
 "metadata": {
  "kernelspec": {
   "display_name": "Python 3",
   "language": "python",
   "name": "python3"
  },
  "language_info": {
   "codemirror_mode": {
    "name": "ipython",
    "version": 3
   },
   "file_extension": ".py",
   "mimetype": "text/x-python",
   "name": "python",
   "nbconvert_exporter": "python",
   "pygments_lexer": "ipython3",
   "version": "3.12.1"
  }
 },
 "nbformat": 4,
 "nbformat_minor": 2
}
