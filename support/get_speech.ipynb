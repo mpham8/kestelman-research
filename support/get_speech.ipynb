{
 "cells": [
  {
   "cell_type": "code",
   "execution_count": 38,
   "metadata": {},
   "outputs": [],
   "source": [
    "from pyannote.audio import Pipeline\n",
    "from transformers import pipeline as transcribe_pipeline\n",
    "import torchaudio\n",
    "from huggingface_hub import login\n",
    "from config import HF_TOKEN\n",
    "\n"
   ]
  },
  {
   "cell_type": "code",
   "execution_count": 39,
   "metadata": {},
   "outputs": [
    {
     "name": "stdout",
     "output_type": "stream",
     "text": [
      "The token has not been saved to the git credentials helper. Pass `add_to_git_credential=True` in this function directly or `--add-to-git-credential` if using via `huggingface-cli` if you want to set the git credential as well.\n",
      "Token is valid (permission: fineGrained).\n",
      "Your token has been saved to /Users/mpham/.cache/huggingface/token\n",
      "Login successful\n"
     ]
    }
   ],
   "source": [
    "login(HF_TOKEN)"
   ]
  },
  {
   "cell_type": "code",
   "execution_count": 40,
   "metadata": {},
   "outputs": [
    {
     "name": "stdout",
     "output_type": "stream",
     "text": [
      "loading pyannote pipeline\n"
     ]
    },
    {
     "name": "stdout",
     "output_type": "stream",
     "text": [
      "loading whisper model\n"
     ]
    },
    {
     "name": "stderr",
     "output_type": "stream",
     "text": [
      "Special tokens have been added in the vocabulary, make sure the associated word embeddings are fine-tuned or trained.\n"
     ]
    },
    {
     "name": "stdout",
     "output_type": "stream",
     "text": [
      "performing diarization\n"
     ]
    }
   ],
   "source": [
    "# Initialize pyannote pipeline for speaker diarization\n",
    "print(\"loading pyannote pipeline\")\n",
    "diarization_pipeline = Pipeline.from_pretrained(\"pyannote/speaker-diarization-3.1\")\n",
    "\n",
    "# Initialize Whisper model for ASR (automatic speech recognition)\n",
    "print(\"loading whisper model\")\n",
    "whisper_model = transcribe_pipeline(\"automatic-speech-recognition\", model=\"openai/whisper-base\")\n",
    "\n",
    "# Path to your audio file\n",
    "audio_file = \"09-07-2017 audio_6 APCNV-2016-565.mp3\"\n",
    "\n",
    "# Perform diarization\n",
    "print(\"performing diarization\")\n",
    "diarization = diarization_pipeline(audio_file)\n",
    "\n",
    "# Load the audio file\n",
    "print(\"loading audio file\")\n",
    "waveform, sample_rate = torchaudio.load(audio_file)\n",
    "\n",
    "# Process each segment and transcribe\n",
    "transcriptions = []\n",
    "print(\"processing segments\")\n",
    "for segment in diarization.itertracks(yield_label=True):\n",
    "    start_time = segment[0].start\n",
    "    end_time = segment[0].end\n",
    "    speaker_label = segment[2]\n",
    "    \n",
    "    # Extract the segment from the waveform\n",
    "    start_sample = int(start_time * sample_rate)\n",
    "    end_sample = int(end_time * sample_rate)\n",
    "    segment_waveform = waveform[:, start_sample:end_sample]\n",
    "\n",
    "    # Convert the segment to text using Whisper\n",
    "    transcription = whisper_model(segment_waveform.squeeze().numpy(), return_timestamps=False)\n",
    "    transcriptions.append(f\"Speaker {speaker_label}: {transcription['text']}\")\n",
    "    print(f\"Speaker {speaker_label}: {transcription['text']}\")\n",
    "\n",
    "# Print the transcriptions\n",
    "for transcription in transcriptions:\n",
    "    print(transcription)"
   ]
  }
 ],
 "metadata": {
  "kernelspec": {
   "display_name": "Python 3",
   "language": "python",
   "name": "python3"
  },
  "language_info": {
   "codemirror_mode": {
    "name": "ipython",
    "version": 3
   },
   "file_extension": ".py",
   "mimetype": "text/x-python",
   "name": "python",
   "nbconvert_exporter": "python",
   "pygments_lexer": "ipython3",
   "version": "3.12.1"
  }
 },
 "nbformat": 4,
 "nbformat_minor": 2
}
