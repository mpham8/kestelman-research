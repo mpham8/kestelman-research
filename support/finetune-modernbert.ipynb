{
 "cells": [
  {
   "cell_type": "code",
   "execution_count": 9,
   "metadata": {},
   "outputs": [],
   "source": [
    "import pandas as pd\n",
    "from transformers import pipeline, AutoTokenizer, AutoModelForSequenceClassification\n",
    "from datasets import Dataset, DatasetDict\n",
    "from transformers import AutoModelForSequenceClassification\n",
    "import numpy as np\n",
    "from sklearn.metrics import f1_score\n",
    "from huggingface_hub import HfFolder\n",
    "from transformers import Trainer, TrainingArguments\n",
    "from sklearn.metrics import accuracy_score, precision_score, recall_score, classification_report"
   ]
  },
  {
   "cell_type": "code",
   "execution_count": 10,
   "metadata": {},
   "outputs": [
    {
     "data": {
      "text/html": [
       "<div>\n",
       "<style scoped>\n",
       "    .dataframe tbody tr th:only-of-type {\n",
       "        vertical-align: middle;\n",
       "    }\n",
       "\n",
       "    .dataframe tbody tr th {\n",
       "        vertical-align: top;\n",
       "    }\n",
       "\n",
       "    .dataframe thead th {\n",
       "        text-align: right;\n",
       "    }\n",
       "</style>\n",
       "<table border=\"1\" class=\"dataframe\">\n",
       "  <thead>\n",
       "    <tr style=\"text-align: right;\">\n",
       "      <th></th>\n",
       "      <th>speaker</th>\n",
       "      <th>text</th>\n",
       "      <th>label</th>\n",
       "    </tr>\n",
       "  </thead>\n",
       "  <tbody>\n",
       "    <tr>\n",
       "      <th>0</th>\n",
       "      <td>2</td>\n",
       "      <td>Thank you James, me, congratulations. Thank y...</td>\n",
       "      <td>NaN</td>\n",
       "    </tr>\n",
       "    <tr>\n",
       "      <th>1</th>\n",
       "      <td>8</td>\n",
       "      <td>you</td>\n",
       "      <td>NaN</td>\n",
       "    </tr>\n",
       "    <tr>\n",
       "      <th>2</th>\n",
       "      <td>2</td>\n",
       "      <td>That was a bad joke. We should go out to lunc...</td>\n",
       "      <td>NaN</td>\n",
       "    </tr>\n",
       "    <tr>\n",
       "      <th>3</th>\n",
       "      <td>8</td>\n",
       "      <td>you  We should go out.  you</td>\n",
       "      <td>NaN</td>\n",
       "    </tr>\n",
       "    <tr>\n",
       "      <th>4</th>\n",
       "      <td>2</td>\n",
       "      <td>We've been waiting all day to hear from you, ...</td>\n",
       "      <td>NaN</td>\n",
       "    </tr>\n",
       "    <tr>\n",
       "      <th>...</th>\n",
       "      <td>...</td>\n",
       "      <td>...</td>\n",
       "      <td>...</td>\n",
       "    </tr>\n",
       "    <tr>\n",
       "      <th>1082</th>\n",
       "      <td>36</td>\n",
       "      <td>Commissioner Lyshay? Yes. Commissioner Zamora?</td>\n",
       "      <td>NaN</td>\n",
       "    </tr>\n",
       "    <tr>\n",
       "      <th>1083</th>\n",
       "      <td>38</td>\n",
       "      <td>you</td>\n",
       "      <td>NaN</td>\n",
       "    </tr>\n",
       "    <tr>\n",
       "      <th>1084</th>\n",
       "      <td>3</td>\n",
       "      <td>Yes.</td>\n",
       "      <td>NaN</td>\n",
       "    </tr>\n",
       "    <tr>\n",
       "      <th>1085</th>\n",
       "      <td>36</td>\n",
       "      <td>Commissioner Vice President Cho? Yes. And the...</td>\n",
       "      <td>NaN</td>\n",
       "    </tr>\n",
       "    <tr>\n",
       "      <th>1086</th>\n",
       "      <td>4</td>\n",
       "      <td>Thank you and there being no further business...</td>\n",
       "      <td>NaN</td>\n",
       "    </tr>\n",
       "  </tbody>\n",
       "</table>\n",
       "<p>1087 rows × 3 columns</p>\n",
       "</div>"
      ],
      "text/plain": [
       "      speaker                                               text  label\n",
       "0           2   Thank you James, me, congratulations. Thank y...    NaN\n",
       "1           8                                                you    NaN\n",
       "2           2   That was a bad joke. We should go out to lunc...    NaN\n",
       "3           8                        you  We should go out.  you    NaN\n",
       "4           2   We've been waiting all day to hear from you, ...    NaN\n",
       "...       ...                                                ...    ...\n",
       "1082       36     Commissioner Lyshay? Yes. Commissioner Zamora?    NaN\n",
       "1083       38                                                you    NaN\n",
       "1084        3                                               Yes.    NaN\n",
       "1085       36   Commissioner Vice President Cho? Yes. And the...    NaN\n",
       "1086        4   Thank you and there being no further business...    NaN\n",
       "\n",
       "[1087 rows x 3 columns]"
      ]
     },
     "execution_count": 10,
     "metadata": {},
     "output_type": "execute_result"
    }
   ],
   "source": [
    "dataset_folder = \"labeled\"\n",
    "datasets = [\"06-13-2013audio_08DIR12-2218_labeled.csv\", \"09-07-2017 audio_6 APCNV-2016-565_labeled.csv\", \"09-12-2017audio_6 ZA-2017-210-CU-1A_labeled.csv\", \"5_DIR_2022_5446_labeled.csv\", \"6_ZA_2022_6776_labeled.csv\", \"07_CPC_2022_6189_labeled.csv\"]\n",
    "\n",
    "#combine all data into singular dataframe\n",
    "#TODO: with actual deployment should directly load into dataloader\n",
    "labeled_df = pd.DataFrame()\n",
    "\n",
    "for data_file in datasets:\n",
    "  file_path = dataset_folder + \"/\" + data_file\n",
    "  data_file_df = pd.read_csv(file_path)\n",
    "  labeled_df = pd.concat([labeled_df, data_file_df], ignore_index=True)\n",
    "\n",
    "labeled_df"
   ]
  },
  {
   "cell_type": "code",
   "execution_count": 11,
   "metadata": {},
   "outputs": [
    {
     "name": "stdout",
     "output_type": "stream",
     "text": [
      "\n",
      "Test Dataset:\n",
      "Dataset({\n",
      "    features: ['text', 'label', '__index_level_0__'],\n",
      "    num_rows: 46\n",
      "})\n"
     ]
    }
   ],
   "source": [
    "# relabel labels\n",
    "\n",
    "# Replace NaN values in 'label' column with 2\n",
    "labeled_df['label'] = labeled_df['label'].fillna(2)\n",
    "# Drop the speaker column\n",
    "labeled_df = labeled_df.drop('speaker', axis=1)\n",
    "# Drop the index column\n",
    "# labeled_df = labeled_df.reset_index(drop=True)\n",
    "\n",
    "\n",
    "\n",
    "#do test train split - make sure the test set is 20/20/40\n",
    "#-1 is oppose, 1 is support, NaN is neither\n",
    "#want 0 oppose, 1 support, 2 neither\n",
    "\n",
    "# Convert NaN to 2 (neither), -1 to 0 (oppose), 1 stays as 1 (support)\n",
    "labeled_df['label'] = labeled_df['label'].map({-1: 0, 1: 1, 2:2})\n",
    "\n",
    "# create test and trainh set\n",
    "test_df = pd.concat([\n",
    "    labeled_df[labeled_df['label'] == 0].sample(n=8, random_state=42),\n",
    "    labeled_df[labeled_df['label'] == 1].sample(n=8, random_state=42), \n",
    "    labeled_df[labeled_df['label'] == 2].sample(n=30, random_state=42)\n",
    "])\n",
    "\n",
    "# train_df = labeled_df.drop(test_df.index)\n",
    "# Drop test_df indices from labeled_df\n",
    "temp_df = labeled_df.drop(test_df.index)\n",
    "# Limit to only 100 samples with label 2, keep all samples with labels 0 and 1\n",
    "label_2_samples = temp_df[temp_df['label'] == 2].sample(n=70, random_state=42)\n",
    "other_samples = temp_df[temp_df['label'] != 2]\n",
    "train_df = pd.concat([other_samples, label_2_samples])\n",
    "\n",
    "\n",
    "test_dataset = Dataset.from_pandas(test_df)\n",
    "train_dataset = Dataset.from_pandas(train_df)\n",
    "\n",
    "split_dataset = DatasetDict({\n",
    "    'train': train_dataset,\n",
    "    'test': test_dataset\n",
    "})\n",
    "\n",
    "print(\"\\nTest Dataset:\")\n",
    "print(split_dataset[\"test\"])\n"
   ]
  },
  {
   "cell_type": "code",
   "execution_count": 12,
   "metadata": {},
   "outputs": [],
   "source": [
    "model_id = \"answerdotai/ModernBERT-base\"\n",
    "tokenizer = AutoTokenizer.from_pretrained(model_id)"
   ]
  },
  {
   "cell_type": "code",
   "execution_count": 13,
   "metadata": {},
   "outputs": [
    {
     "data": {
      "application/vnd.jupyter.widget-view+json": {
       "model_id": "a2a373b6c3bf494985551603a0e761c1",
       "version_major": 2,
       "version_minor": 0
      },
      "text/plain": [
       "Map:   0%|          | 0/120 [00:00<?, ? examples/s]"
      ]
     },
     "metadata": {},
     "output_type": "display_data"
    },
    {
     "data": {
      "application/vnd.jupyter.widget-view+json": {
       "model_id": "98e855f10346421f8735489e7e15c917",
       "version_major": 2,
       "version_minor": 0
      },
      "text/plain": [
       "Map:   0%|          | 0/46 [00:00<?, ? examples/s]"
      ]
     },
     "metadata": {},
     "output_type": "display_data"
    },
    {
     "data": {
      "text/plain": [
       "dict_keys(['labels', 'input_ids', 'attention_mask'])"
      ]
     },
     "execution_count": 13,
     "metadata": {},
     "output_type": "execute_result"
    }
   ],
   "source": [
    "def tokenize(batch):\n",
    "    return tokenizer(batch['text'], padding=True, truncation=True, return_tensors=\"pt\")\\\n",
    "    \n",
    "if \"label\" in split_dataset[\"train\"].features.keys():\n",
    "    split_dataset =  split_dataset.rename_column(\"label\", \"labels\") # to match Trainer\n",
    "tokenized_dataset = split_dataset.map(tokenize, batched=True, remove_columns=[\"text\", \"__index_level_0__\"])\n",
    " \n",
    "tokenized_dataset[\"train\"].features.keys()\n"
   ]
  },
  {
   "cell_type": "code",
   "execution_count": 14,
   "metadata": {},
   "outputs": [
    {
     "name": "stderr",
     "output_type": "stream",
     "text": [
      "Some weights of ModernBertForSequenceClassification were not initialized from the model checkpoint at answerdotai/ModernBERT-base and are newly initialized: ['classifier.bias', 'classifier.weight']\n",
      "You should probably TRAIN this model on a down-stream task to be able to use it for predictions and inference.\n"
     ]
    }
   ],
   "source": [
    "# load model\n",
    "model_id = \"answerdotai/ModernBERT-base\"\n",
    " \n",
    "labels = tokenized_dataset[\"train\"].features[\"labels\"]\n",
    "num_labels = 3  # Binary classification based on the data\n",
    "label2id = {\"0\": \"0\", \"1\": \"1\", \"2\":\"2\"}\n",
    "id2label = {\"0\": \"0\", \"1\": \"1\", \"2\": \"2\"}\n",
    "\n",
    "model = AutoModelForSequenceClassification.from_pretrained(\n",
    "    model_id, num_labels=num_labels, label2id=label2id, id2label=id2label,\n",
    ")"
   ]
  },
  {
   "cell_type": "code",
   "execution_count": 15,
   "metadata": {},
   "outputs": [],
   "source": [
    "def compute_metrics(eval_pred):\n",
    "    predictions, labels = eval_pred\n",
    "    predictions = np.argmax(predictions, axis=1)\n",
    "    score = f1_score(\n",
    "            labels, predictions, labels=labels, pos_label=1, average=\"weighted\"\n",
    "        )\n",
    "    return {\"f1\": float(score) if score == 1 else score}"
   ]
  },
  {
   "cell_type": "code",
   "execution_count": null,
   "metadata": {},
   "outputs": [
    {
     "name": "stderr",
     "output_type": "stream",
     "text": [
      "/Users/mpham/venvs/modernbert_env/lib/python3.11/site-packages/transformers/optimization.py:591: FutureWarning: This implementation of AdamW is deprecated and will be removed in a future version. Use the PyTorch implementation torch.optim.AdamW instead, or set `no_deprecation_warning=True` to disable this warning\n",
      "  warnings.warn(\n"
     ]
    },
    {
     "data": {
      "text/html": [
       "\n",
       "    <div>\n",
       "      \n",
       "      <progress value='4' max='90' style='width:300px; height:20px; vertical-align: middle;'></progress>\n",
       "      [ 4/90 06:50 < 4:53:51, 0.00 it/s, Epoch 0.10/3]\n",
       "    </div>\n",
       "    <table border=\"1\" class=\"dataframe\">\n",
       "  <thead>\n",
       " <tr style=\"text-align: left;\">\n",
       "      <th>Epoch</th>\n",
       "      <th>Training Loss</th>\n",
       "      <th>Validation Loss</th>\n",
       "    </tr>\n",
       "  </thead>\n",
       "  <tbody>\n",
       "  </tbody>\n",
       "</table><p>"
      ],
      "text/plain": [
       "<IPython.core.display.HTML object>"
      ]
     },
     "metadata": {},
     "output_type": "display_data"
    }
   ],
   "source": [
    "# training args for Mx metal series macbook\n",
    "# training_args = TrainingArguments(\n",
    "#     output_dir= \"ModernBERT-domain-classifier\",\n",
    "#     per_device_train_batch_size=32,\n",
    "#     per_device_eval_batch_size=16,\n",
    "#     learning_rate=5e-5,\n",
    "#         num_train_epochs=5,\n",
    "#     bf16=True, # bfloat16 training \n",
    "#     optim=\"adamw_torch_fused\", # improved optimizer \n",
    "#     # logging & evaluation strategies\n",
    "#     logging_strategy=\"steps\",\n",
    "#     logging_steps=100,\n",
    "#     eval_strategy=\"epoch\",\n",
    "#     save_strategy=\"epoch\",\n",
    "#     save_total_limit=2,\n",
    "#     load_best_model_at_end=True,\n",
    "#     use_mps_device=True,\n",
    "#     metric_for_best_model=\"f1\",\n",
    "#     # push to hub parameters\n",
    "#     push_to_hub=True,\n",
    "#     hub_strategy=\"every_save\",\n",
    "#     hub_token=HfFolder.get_token(),\n",
    "# )\n",
    "\n",
    "# training args for Intel silicon series macbook\n",
    "training_args = TrainingArguments(\n",
    "    output_dir= \"ModernBERT-domain-classifier\",\n",
    "    per_device_train_batch_size=4,\n",
    "    per_device_eval_batch_size=4,\n",
    "    learning_rate=5e-5,\n",
    "    num_train_epochs=3,\n",
    "    bf16=False,\n",
    "    optim=\"adamw_hf\",  # Changed to standard optimizer\n",
    "    # logging & evaluation strategies\n",
    "    logging_strategy=\"steps\",\n",
    "    logging_steps=100,\n",
    "    eval_strategy=\"epoch\",\n",
    "    save_strategy=\"epoch\",\n",
    "    save_total_limit=2,\n",
    "    load_best_model_at_end=True,\n",
    "    metric_for_best_model=\"f1\",\n",
    "    # push to hub parameters\n",
    "    push_to_hub=True,\n",
    "    hub_strategy=\"every_save\",\n",
    "    hub_token=HfFolder.get_token(),\n",
    ")\n",
    " \n",
    "# trainer instance\n",
    "trainer = Trainer(\n",
    "    model=model,\n",
    "    args=training_args,\n",
    "    train_dataset=tokenized_dataset[\"train\"],\n",
    "    eval_dataset=tokenized_dataset[\"test\"],\n",
    "    compute_metrics=compute_metrics,\n",
    ")\n",
    "trainer.train()"
   ]
  },
  {
   "cell_type": "code",
   "execution_count": null,
   "metadata": {},
   "outputs": [],
   "source": [
    "#forward inference\n",
    "tokenizer = AutoTokenizer.from_pretrained(\"answerdotai/ModernBERT-base\")\n",
    "model = AutoModelForSequenceClassification.from_pretrained(\"mpham8/ModernBERT-domain-classifier\")\n",
    "\n",
    "classifier = pipeline(\n",
    "    task=\"text-classification\",\n",
    "    model=model,\n",
    "    tokenizer=tokenizer,\n",
    "    device=0\n",
    ")"
   ]
  },
  {
   "cell_type": "code",
   "execution_count": null,
   "metadata": {},
   "outputs": [],
   "source": [
    "test_texts = test_df[\"text\"].tolist() \n",
    "predictions = classifier(test_texts)\n",
    "print(predictions)\n",
    "\n",
    "# Get true labels from test set\n",
    "truelabels_ls = test_df[\"label\"].tolist()\n",
    "predlabels_ls = [int(pred[\"label\"][-1]) for pred in predictions]  # Extracts the label number from \"LABEL_X\"\n"
   ]
  },
  {
   "cell_type": "code",
   "execution_count": null,
   "metadata": {},
   "outputs": [],
   "source": [
    "accuracy = accuracy_score(truelabels_ls, predlabels_ls)\n",
    "precision = precision_score(truelabels_ls, predlabels_ls, average='weighted')\n",
    "recall = recall_score(truelabels_ls, predlabels_ls, average='weighted')\n",
    "\n",
    "print(f\"Accuracy: {accuracy:.2f}\")\n",
    "print(f\"Precision: {precision:.2f}\") \n",
    "print(f\"Recall: {recall:.2f}\")\n",
    "\n",
    "report = classification_report(truelabels_ls, predlabels_ls, output_dict=True)\n",
    "report_df = pd.DataFrame(report).transpose()\n",
    "report_df = report_df.round(2) \n",
    "\n",
    "report_df\n"
   ]
  },
  {
   "cell_type": "code",
   "execution_count": null,
   "metadata": {},
   "outputs": [],
   "source": [
    "# Get counts of each label in labeled_df\n",
    "label_counts = labeled_df['label'].value_counts().sort_index()\n",
    "print(\"\\nLabel distribution in labeled data:\")\n",
    "for label, count in label_counts.items():\n",
    "    print(f\"Label {label}: {count}\")\n"
   ]
  }
 ],
 "metadata": {
  "kernelspec": {
   "display_name": "Python 3",
   "language": "python",
   "name": "python3"
  },
  "language_info": {
   "codemirror_mode": {
    "name": "ipython",
    "version": 3
   },
   "file_extension": ".py",
   "mimetype": "text/x-python",
   "name": "python",
   "nbconvert_exporter": "python",
   "pygments_lexer": "ipython3",
   "version": "3.11.11"
  }
 },
 "nbformat": 4,
 "nbformat_minor": 2
}
