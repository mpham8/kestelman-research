{
 "cells": [
  {
   "cell_type": "code",
   "execution_count": 17,
   "metadata": {},
   "outputs": [],
   "source": [
    "import pandas as pd\n",
    "import os\n",
    "from dotenv import load_dotenv  # If using python-dotenv\n",
    "from streetview import get_streetview\n",
    "import asyncio\n",
    "import aiofiles\n",
    "from functools import partial"
   ]
  },
  {
   "cell_type": "code",
   "execution_count": 18,
   "metadata": {},
   "outputs": [
    {
     "name": "stdout",
     "output_type": "stream",
     "text": [
      "api calls limit: 22000\n"
     ]
    }
   ],
   "source": [
    "load_dotenv()\n",
    "api_key = os.environ.get(\"API\")\n",
    "# print(api_key)\n",
    "\n",
    "folder_save = 'raw'\n",
    "\n",
    "#was started at 12k\n",
    "\n",
    "api_calls_limit = 22000 #SHOULD BE MAX 10000\n",
    "print(f\"api calls limit: {api_calls_limit}\")"
   ]
  },
  {
   "cell_type": "code",
   "execution_count": 19,
   "metadata": {},
   "outputs": [],
   "source": [
    "# empty_df = pd.DataFrame(columns=['downloaded'])\n",
    "\n",
    "# # Save the DataFrame to a CSV file\n",
    "# empty_df.to_csv('streetviewimages.csv', index=False)\n",
    "\n",
    "# print(\"Created empty streetviewimages.csv with 'downloaded' column\")"
   ]
  },
  {
   "cell_type": "code",
   "execution_count": 20,
   "metadata": {},
   "outputs": [
    {
     "data": {
      "text/html": [
       "<div>\n",
       "<style scoped>\n",
       "    .dataframe tbody tr th:only-of-type {\n",
       "        vertical-align: middle;\n",
       "    }\n",
       "\n",
       "    .dataframe tbody tr th {\n",
       "        vertical-align: top;\n",
       "    }\n",
       "\n",
       "    .dataframe thead th {\n",
       "        text-align: right;\n",
       "    }\n",
       "</style>\n",
       "<table border=\"1\" class=\"dataframe\">\n",
       "  <thead>\n",
       "    <tr style=\"text-align: right;\">\n",
       "      <th></th>\n",
       "      <th>panoid</th>\n",
       "    </tr>\n",
       "  </thead>\n",
       "  <tbody>\n",
       "    <tr>\n",
       "      <th>0</th>\n",
       "      <td>DKl7yRDcP00oKid6jD3MZg</td>\n",
       "    </tr>\n",
       "    <tr>\n",
       "      <th>1</th>\n",
       "      <td>PX9xBtoClYNfHJRyenY3eQ</td>\n",
       "    </tr>\n",
       "    <tr>\n",
       "      <th>2</th>\n",
       "      <td>ByQt67gS0FKLmbBFgc0LrA</td>\n",
       "    </tr>\n",
       "    <tr>\n",
       "      <th>3</th>\n",
       "      <td>I7MoLOO_oZ92FCodbI2ThA</td>\n",
       "    </tr>\n",
       "    <tr>\n",
       "      <th>4</th>\n",
       "      <td>o639-1IzUKFRvOHkoHWQew</td>\n",
       "    </tr>\n",
       "    <tr>\n",
       "      <th>...</th>\n",
       "      <td>...</td>\n",
       "    </tr>\n",
       "    <tr>\n",
       "      <th>145241</th>\n",
       "      <td>frIc7lEl-YVCuq4utP678A</td>\n",
       "    </tr>\n",
       "    <tr>\n",
       "      <th>145242</th>\n",
       "      <td>iabyem1ABuYMqMnpa2rI7Q</td>\n",
       "    </tr>\n",
       "    <tr>\n",
       "      <th>145243</th>\n",
       "      <td>cnX4N8LYBMsYMA-Zjog_bw</td>\n",
       "    </tr>\n",
       "    <tr>\n",
       "      <th>145244</th>\n",
       "      <td>_abi6yQJcZwST4dBpcj1rQ</td>\n",
       "    </tr>\n",
       "    <tr>\n",
       "      <th>145245</th>\n",
       "      <td>aN2Z9Cn2EVx3O-rqkRMmiA</td>\n",
       "    </tr>\n",
       "  </tbody>\n",
       "</table>\n",
       "<p>145246 rows × 1 columns</p>\n",
       "</div>"
      ],
      "text/plain": [
       "                        panoid\n",
       "0       DKl7yRDcP00oKid6jD3MZg\n",
       "1       PX9xBtoClYNfHJRyenY3eQ\n",
       "2       ByQt67gS0FKLmbBFgc0LrA\n",
       "3       I7MoLOO_oZ92FCodbI2ThA\n",
       "4       o639-1IzUKFRvOHkoHWQew\n",
       "...                        ...\n",
       "145241  frIc7lEl-YVCuq4utP678A\n",
       "145242  iabyem1ABuYMqMnpa2rI7Q\n",
       "145243  cnX4N8LYBMsYMA-Zjog_bw\n",
       "145244  _abi6yQJcZwST4dBpcj1rQ\n",
       "145245  aN2Z9Cn2EVx3O-rqkRMmiA\n",
       "\n",
       "[145246 rows x 1 columns]"
      ]
     },
     "execution_count": 20,
     "metadata": {},
     "output_type": "execute_result"
    }
   ],
   "source": [
    "panoid_df = pd.read_csv('pano_id_filtered.csv')\n",
    "panoid_df"
   ]
  },
  {
   "cell_type": "code",
   "execution_count": 21,
   "metadata": {},
   "outputs": [
    {
     "data": {
      "text/plain": [
       "122414"
      ]
     },
     "execution_count": 21,
     "metadata": {},
     "output_type": "execute_result"
    }
   ],
   "source": [
    "# Get downloaded images from the folder instead of CSV\n",
    "downloaded_set = set()\n",
    "if os.path.exists(folder_save):\n",
    "    for filename in os.listdir(folder_save):\n",
    "        if filename.endswith('.jpeg'):\n",
    "            # Extract the panoid from the filename (remove .jpeg extension)\n",
    "            panoid = filename.replace('.jpeg', '')\n",
    "            downloaded_set.add(panoid)\n",
    "\n",
    "len(downloaded_set)"
   ]
  },
  {
   "cell_type": "code",
   "execution_count": 22,
   "metadata": {},
   "outputs": [],
   "source": [
    "# panoid_ls = panoid_df['panoid'].tolist()\n",
    "\n",
    "\n",
    "# panoidnotyet_ls = [panoid for panoid in panoid_ls if panoid not in downloaded_set]\n",
    "# print(len(panoidnotyet_ls))\n",
    "\n",
    "# for i in range(api_calls_limit):\n",
    "#   pano_id = panoidnotyet_ls[i]\n",
    "#   image = get_streetview(pano_id=pano_id, api_key=api_key)\n",
    "#   image.save(f\"{folder_save}/{pano_id}.jpeg\", \"jpeg\")\n"
   ]
  },
  {
   "cell_type": "code",
   "execution_count": 23,
   "metadata": {},
   "outputs": [],
   "source": [
    "# panoid_ls = panoid_df['panoid'].tolist()\n",
    "\n",
    "\n",
    "# panoidnotyet_ls = [panoid for panoid in panoid_ls if panoid not in downloaded_set]\n",
    "# print(len(panoidnotyet_ls))\n",
    "\n",
    "\n",
    "# async def download_streetview(pano_id, api_key, folder_save):\n",
    "#   image = get_streetview(pano_id=pano_id, api_key=api_key)\n",
    "#   image_path = f\"{folder_save}/{pano_id}.jpeg\"\n",
    "#   image.save(image_path, \"jpeg\")\n",
    "  \n",
    "#   new_panos_df = pd.DataFrame({\n",
    "#       'downloaded': [pano_id],\n",
    "#   })\n",
    "#   async with aiofiles.open('streetviewimages.csv', 'a') as f:\n",
    "#       await f.write(f\"{pano_id}\\n\")\n",
    "  \n",
    "#   return pano_id\n",
    "\n",
    "# async def main():\n",
    "#   tasks = []\n",
    "#   for i in range(api_calls_limit):\n",
    "#     pano_id = panoidnotyet_ls[i]\n",
    "#     task = asyncio.create_task(download_streetview(pano_id, api_key, folder_save))\n",
    "#     tasks.append(task)\n",
    "  \n",
    "#   completed = await asyncio.gather(*tasks)\n",
    "#   print(f\"Downloaded {len(completed)} images\")\n",
    "\n",
    "# # Run the async code\n",
    "# await main()\n"
   ]
  },
  {
   "cell_type": "code",
   "execution_count": null,
   "metadata": {},
   "outputs": [
    {
     "name": "stdout",
     "output_type": "stream",
     "text": [
      "22832\n"
     ]
    }
   ],
   "source": [
    "panoid_ls = panoid_df['panoid'].tolist()\n",
    "\n",
    "\n",
    "panoidnotyet_ls = [panoid for panoid in panoid_ls if panoid not in downloaded_set]\n",
    "print(len(panoidnotyet_ls))\n",
    "\n",
    "async def download_streetview(pano_id, api_key, folder_save):\n",
    "  try:\n",
    "    image = get_streetview(pano_id=pano_id, api_key=api_key)\n",
    "    # Convert RGBA to RGB if needed\n",
    "    if image.mode == 'RGBA':\n",
    "      image = image.convert('RGB')\n",
    "    image.save(f\"{folder_save}/{pano_id}.jpeg\", \"jpeg\")\n",
    "    return pano_id\n",
    "  except Exception as e:\n",
    "    print(f\"Error downloading {pano_id}: {str(e)}\")\n",
    "    return None\n",
    "\n",
    "async def main():\n",
    "  batch_size = 100\n",
    "  total_downloads = min(api_calls_limit, len(panoidnotyet_ls))\n",
    "  \n",
    "  for start_idx in range(0, total_downloads, batch_size):\n",
    "    end_idx = min(start_idx + batch_size, total_downloads)\n",
    "    batch_ids = panoidnotyet_ls[start_idx:end_idx]\n",
    "    \n",
    "    tasks = []\n",
    "    for pano_id in batch_ids:\n",
    "      task = asyncio.create_task(download_streetview(pano_id, api_key, folder_save))\n",
    "      tasks.append(task)\n",
    "    \n",
    "    completed = await asyncio.gather(*tasks)\n",
    "    # Filter out None values (failed downloads)\n",
    "    completed = [p for p in completed if p is not None]\n",
    "    print(f\"Downloaded batch {start_idx//batch_size + 1}: {len(completed)} images\")\n",
    "\n",
    "# Run the async code\n",
    "await main()\n"
   ]
  }
 ],
 "metadata": {
  "kernelspec": {
   "display_name": "Python 3",
   "language": "python",
   "name": "python3"
  },
  "language_info": {
   "codemirror_mode": {
    "name": "ipython",
    "version": 3
   },
   "file_extension": ".py",
   "mimetype": "text/x-python",
   "name": "python",
   "nbconvert_exporter": "python",
   "pygments_lexer": "ipython3",
   "version": "3.12.1"
  }
 },
 "nbformat": 4,
 "nbformat_minor": 2
}
