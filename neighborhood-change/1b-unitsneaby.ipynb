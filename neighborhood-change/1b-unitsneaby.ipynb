{
 "cells": [
  {
   "cell_type": "code",
   "execution_count": 1,
   "metadata": {},
   "outputs": [],
   "source": [
    "from long_lat_multifamily_la2 import longitude_latitude_dict\n",
    "import numpy as np\n",
    "from geopy.distance import geodesic\n",
    "import pandas as pd"
   ]
  },
  {
   "cell_type": "code",
   "execution_count": 2,
   "metadata": {},
   "outputs": [
    {
     "name": "stdout",
     "output_type": "stream",
     "text": [
      "Total number of locations in the dataset: 2678\n"
     ]
    }
   ],
   "source": [
    "# Get the length of the longitude_latitude_dict\n",
    "num_locations = len(longitude_latitude_dict)\n",
    "print(f\"Total number of locations in the dataset: {num_locations}\")\n"
   ]
  },
  {
   "cell_type": "code",
   "execution_count": 3,
   "metadata": {},
   "outputs": [
    {
     "name": "stdout",
     "output_type": "stream",
     "text": [
      "Processing 0/2678 addresses...\n",
      "Processing 100/2678 addresses...\n",
      "Processing 200/2678 addresses...\n",
      "Processing 300/2678 addresses...\n",
      "Processing 400/2678 addresses...\n",
      "Processing 500/2678 addresses...\n",
      "Processing 600/2678 addresses...\n",
      "Processing 700/2678 addresses...\n",
      "Processing 800/2678 addresses...\n",
      "Processing 900/2678 addresses...\n",
      "Processing 1000/2678 addresses...\n",
      "Processing 1100/2678 addresses...\n",
      "Processing 1200/2678 addresses...\n",
      "Processing 1300/2678 addresses...\n",
      "Processing 1400/2678 addresses...\n",
      "Processing 1500/2678 addresses...\n",
      "Processing 1600/2678 addresses...\n",
      "Processing 1700/2678 addresses...\n",
      "Processing 1800/2678 addresses...\n",
      "Processing 1900/2678 addresses...\n",
      "Processing 2000/2678 addresses...\n",
      "Processing 2100/2678 addresses...\n",
      "Processing 2200/2678 addresses...\n",
      "Processing 2300/2678 addresses...\n",
      "Processing 2400/2678 addresses...\n",
      "Processing 2500/2678 addresses...\n",
      "Processing 2600/2678 addresses...\n"
     ]
    },
    {
     "ename": "AttributeError",
     "evalue": "'DataFrame' object has no attribute 'append'",
     "output_type": "error",
     "traceback": [
      "\u001b[0;31m---------------------------------------------------------------------------\u001b[0m",
      "\u001b[0;31mAttributeError\u001b[0m                            Traceback (most recent call last)",
      "\u001b[0;32m/var/folders/w4/8bdyf7817wzghq2ypzxtqpcm0000gn/T/ipykernel_80878/113367420.py\u001b[0m in \u001b[0;36m?\u001b[0;34m()\u001b[0m\n\u001b[1;32m     36\u001b[0m \u001b[0;34m\u001b[0m\u001b[0m\n\u001b[1;32m     37\u001b[0m \u001b[0;31m# Populate the DataFrame\u001b[0m\u001b[0;34m\u001b[0m\u001b[0;34m\u001b[0m\u001b[0m\n\u001b[1;32m     38\u001b[0m \u001b[0;32mfor\u001b[0m \u001b[0maddress\u001b[0m\u001b[0;34m,\u001b[0m \u001b[0mcount\u001b[0m \u001b[0;32min\u001b[0m \u001b[0mnearby_points_count\u001b[0m\u001b[0;34m.\u001b[0m\u001b[0mitems\u001b[0m\u001b[0;34m(\u001b[0m\u001b[0;34m)\u001b[0m\u001b[0;34m:\u001b[0m\u001b[0;34m\u001b[0m\u001b[0;34m\u001b[0m\u001b[0m\n\u001b[1;32m     39\u001b[0m     \u001b[0mcoords\u001b[0m \u001b[0;34m=\u001b[0m \u001b[0mlongitude_latitude_dict\u001b[0m\u001b[0;34m[\u001b[0m\u001b[0maddress\u001b[0m\u001b[0;34m]\u001b[0m\u001b[0;34m\u001b[0m\u001b[0;34m\u001b[0m\u001b[0m\n\u001b[0;32m---> 40\u001b[0;31m     df = df.append({\n\u001b[0m\u001b[1;32m     41\u001b[0m         \u001b[0;34m'address'\u001b[0m\u001b[0;34m:\u001b[0m \u001b[0maddress\u001b[0m\u001b[0;34m,\u001b[0m\u001b[0;34m\u001b[0m\u001b[0;34m\u001b[0m\u001b[0m\n\u001b[1;32m     42\u001b[0m         \u001b[0;34m'latitude'\u001b[0m\u001b[0;34m:\u001b[0m \u001b[0mcoords\u001b[0m\u001b[0;34m[\u001b[0m\u001b[0;36m0\u001b[0m\u001b[0;34m]\u001b[0m\u001b[0;34m,\u001b[0m\u001b[0;34m\u001b[0m\u001b[0;34m\u001b[0m\u001b[0m\n\u001b[1;32m     43\u001b[0m         \u001b[0;34m'longitude'\u001b[0m\u001b[0;34m:\u001b[0m \u001b[0mcoords\u001b[0m\u001b[0;34m[\u001b[0m\u001b[0;36m1\u001b[0m\u001b[0;34m]\u001b[0m\u001b[0;34m,\u001b[0m\u001b[0;34m\u001b[0m\u001b[0;34m\u001b[0m\u001b[0m\n",
      "\u001b[0;32m/Library/Frameworks/Python.framework/Versions/3.12/lib/python3.12/site-packages/pandas/core/generic.py\u001b[0m in \u001b[0;36m?\u001b[0;34m(self, name)\u001b[0m\n\u001b[1;32m   6289\u001b[0m             \u001b[0;32mand\u001b[0m \u001b[0mname\u001b[0m \u001b[0;32mnot\u001b[0m \u001b[0;32min\u001b[0m \u001b[0mself\u001b[0m\u001b[0;34m.\u001b[0m\u001b[0m_accessors\u001b[0m\u001b[0;34m\u001b[0m\u001b[0;34m\u001b[0m\u001b[0m\n\u001b[1;32m   6290\u001b[0m             \u001b[0;32mand\u001b[0m \u001b[0mself\u001b[0m\u001b[0;34m.\u001b[0m\u001b[0m_info_axis\u001b[0m\u001b[0;34m.\u001b[0m\u001b[0m_can_hold_identifiers_and_holds_name\u001b[0m\u001b[0;34m(\u001b[0m\u001b[0mname\u001b[0m\u001b[0;34m)\u001b[0m\u001b[0;34m\u001b[0m\u001b[0;34m\u001b[0m\u001b[0m\n\u001b[1;32m   6291\u001b[0m         \u001b[0;34m)\u001b[0m\u001b[0;34m:\u001b[0m\u001b[0;34m\u001b[0m\u001b[0;34m\u001b[0m\u001b[0m\n\u001b[1;32m   6292\u001b[0m             \u001b[0;32mreturn\u001b[0m \u001b[0mself\u001b[0m\u001b[0;34m[\u001b[0m\u001b[0mname\u001b[0m\u001b[0;34m]\u001b[0m\u001b[0;34m\u001b[0m\u001b[0;34m\u001b[0m\u001b[0m\n\u001b[0;32m-> 6293\u001b[0;31m         \u001b[0;32mreturn\u001b[0m \u001b[0mobject\u001b[0m\u001b[0;34m.\u001b[0m\u001b[0m__getattribute__\u001b[0m\u001b[0;34m(\u001b[0m\u001b[0mself\u001b[0m\u001b[0;34m,\u001b[0m \u001b[0mname\u001b[0m\u001b[0;34m)\u001b[0m\u001b[0;34m\u001b[0m\u001b[0;34m\u001b[0m\u001b[0m\n\u001b[0m",
      "\u001b[0;31mAttributeError\u001b[0m: 'DataFrame' object has no attribute 'append'"
     ]
    }
   ],
   "source": [
    "\n",
    "\n",
    "# Dictionary to store the count of nearby points for each location\n",
    "nearby_points_count = {}\n",
    "\n",
    "# Get all coordinates as a list for easier iteration\n",
    "all_coords = list(longitude_latitude_dict.values())\n",
    "\n",
    "# For each point, count how many other points are within 1200m\n",
    "for i, (address, coords) in enumerate(longitude_latitude_dict.items()):\n",
    "    if i % 100 == 0:\n",
    "        print(f\"Processing {i}/{len(longitude_latitude_dict)} addresses...\")\n",
    "    lat = coords[0]\n",
    "    lon = coords[1]\n",
    "    \n",
    "    # Count nearby points (excluding itself)\n",
    "    count = 0\n",
    "    for other_coords in all_coords:\n",
    "        other_lat = other_coords[0]\n",
    "        other_lon = other_coords[1]\n",
    "        \n",
    "        # Skip if it's the same point\n",
    "        if lat == other_lat and lon == other_lon:\n",
    "            continue\n",
    "        \n",
    "        # Calculate distance in meters\n",
    "        distance = geodesic((lat, lon), (other_lat, other_lon)).meters\n",
    "        \n",
    "        # Increment count if within 1200m\n",
    "        if distance <= 1200:\n",
    "            count += 1\n",
    "    \n",
    "    # Store the count for this address\n",
    "    nearby_points_count[address] = count\n",
    "\n",
    "# Create a DataFrame with address, lat, lon, and nearby points count"
   ]
  },
  {
   "cell_type": "code",
   "execution_count": 5,
   "metadata": {},
   "outputs": [
    {
     "name": "stdout",
     "output_type": "stream",
     "text": [
      "Created DataFrame with 2678 rows\n"
     ]
    },
    {
     "data": {
      "text/html": [
       "<div>\n",
       "<style scoped>\n",
       "    .dataframe tbody tr th:only-of-type {\n",
       "        vertical-align: middle;\n",
       "    }\n",
       "\n",
       "    .dataframe tbody tr th {\n",
       "        vertical-align: top;\n",
       "    }\n",
       "\n",
       "    .dataframe thead th {\n",
       "        text-align: right;\n",
       "    }\n",
       "</style>\n",
       "<table border=\"1\" class=\"dataframe\">\n",
       "  <thead>\n",
       "    <tr style=\"text-align: right;\">\n",
       "      <th></th>\n",
       "      <th>address</th>\n",
       "      <th>latitude</th>\n",
       "      <th>longitude</th>\n",
       "      <th>nearby_points_within_1200m</th>\n",
       "    </tr>\n",
       "  </thead>\n",
       "  <tbody>\n",
       "    <tr>\n",
       "      <th>0</th>\n",
       "      <td>11418 Missouri Avenue    Los Angeles, CA 90025</td>\n",
       "      <td>34.041129</td>\n",
       "      <td>-118.447062</td>\n",
       "      <td>42</td>\n",
       "    </tr>\n",
       "    <tr>\n",
       "      <th>1</th>\n",
       "      <td>1408 West Jefferson Boulevard    Los Angeles, ...</td>\n",
       "      <td>34.025428</td>\n",
       "      <td>-118.297396</td>\n",
       "      <td>24</td>\n",
       "    </tr>\n",
       "    <tr>\n",
       "      <th>2</th>\n",
       "      <td>11750 Wilshire Blvd    Los Angeles, CA 90025</td>\n",
       "      <td>34.048576</td>\n",
       "      <td>-118.461807</td>\n",
       "      <td>23</td>\n",
       "    </tr>\n",
       "    <tr>\n",
       "      <th>3</th>\n",
       "      <td>520 North Glendale Avenue    Glendale, CA 91206</td>\n",
       "      <td>34.153779</td>\n",
       "      <td>-118.242876</td>\n",
       "      <td>13</td>\n",
       "    </tr>\n",
       "    <tr>\n",
       "      <th>4</th>\n",
       "      <td>1414 N Las Palmas Avenue    Los Angeles, CA 90028</td>\n",
       "      <td>34.096716</td>\n",
       "      <td>-118.336470</td>\n",
       "      <td>81</td>\n",
       "    </tr>\n",
       "  </tbody>\n",
       "</table>\n",
       "</div>"
      ],
      "text/plain": [
       "                                             address   latitude   longitude  \\\n",
       "0     11418 Missouri Avenue    Los Angeles, CA 90025  34.041129 -118.447062   \n",
       "1  1408 West Jefferson Boulevard    Los Angeles, ...  34.025428 -118.297396   \n",
       "2       11750 Wilshire Blvd    Los Angeles, CA 90025  34.048576 -118.461807   \n",
       "3    520 North Glendale Avenue    Glendale, CA 91206  34.153779 -118.242876   \n",
       "4  1414 N Las Palmas Avenue    Los Angeles, CA 90028  34.096716 -118.336470   \n",
       "\n",
       "   nearby_points_within_1200m  \n",
       "0                          42  \n",
       "1                          24  \n",
       "2                          23  \n",
       "3                          13  \n",
       "4                          81  "
      ]
     },
     "execution_count": 5,
     "metadata": {},
     "output_type": "execute_result"
    }
   ],
   "source": [
    "# Initialize a list to store the data\n",
    "data = []\n",
    "\n",
    "# Populate the list with dictionaries\n",
    "for address, count in nearby_points_count.items():\n",
    "    coords = longitude_latitude_dict[address]\n",
    "    data.append({\n",
    "        'address': address,\n",
    "        'latitude': coords[0],\n",
    "        'longitude': coords[1],\n",
    "        'nearby_points_within_1200m': count\n",
    "    })\n",
    "\n",
    "# Create DataFrame from the list of dictionaries\n",
    "df = pd.DataFrame(data)\n",
    "\n",
    "# Display the first few rows of the DataFrame\n",
    "print(f\"Created DataFrame with {len(df)} rows\")\n",
    "df.head()"
   ]
  },
  {
   "cell_type": "code",
   "execution_count": 6,
   "metadata": {},
   "outputs": [
    {
     "name": "stdout",
     "output_type": "stream",
     "text": [
      "DataFrame exported to nearby.csv successfully\n"
     ]
    }
   ],
   "source": [
    "# Export the DataFrame to a CSV file\n",
    "df.to_csv('countnearby.csv', index=False)\n",
    "print(\"DataFrame exported to nearby.csv successfully\")\n"
   ]
  },
  {
   "cell_type": "code",
   "execution_count": 7,
   "metadata": {},
   "outputs": [
    {
     "name": "stdout",
     "output_type": "stream",
     "text": [
      "Statistics for nearby points within 1200m:\n",
      "count    2678.000000\n",
      "mean       28.883495\n",
      "std        26.727178\n",
      "min         0.000000\n",
      "25%         6.000000\n",
      "50%        21.000000\n",
      "75%        46.000000\n",
      "max       118.000000\n",
      "Name: nearby_points_within_1200m, dtype: float64\n"
     ]
    },
    {
     "data": {
      "image/png": "[encoded data removed]",
      "text/plain": [
       "<Figure size 1000x600 with 1 Axes>"
      ]
     },
     "metadata": {},
     "output_type": "display_data"
    },
    {
     "name": "stdout",
     "output_type": "stream",
     "text": [
      "\n",
      "Location with most nearby points (118 points):\n",
      "Address: 888 Vermont Avenue    Los Angeles, CA 90005\n",
      "Coordinates: (34.0560498, -118.2913733)\n",
      "\n",
      "Location with least nearby points (0 points):\n",
      "Address: 901 Pacific Coast Highway    Seal Beach, CA 90740\n",
      "Coordinates: (33.7444934, -118.1023288)\n"
     ]
    }
   ],
   "source": [
    "# Calculate statistics on nearby_points_within_1200m\n",
    "stats = df['nearby_points_within_1200m'].describe()\n",
    "print(\"Statistics for nearby points within 1200m:\")\n",
    "print(stats)\n",
    "\n",
    "# Create a histogram to visualize the distribution\n",
    "import matplotlib.pyplot as plt\n",
    "\n",
    "plt.figure(figsize=(10, 6))\n",
    "plt.hist(df['nearby_points_within_1200m'], bins=20, edgecolor='black')\n",
    "plt.title('Distribution of Nearby Points Within 1200m')\n",
    "plt.xlabel('Number of Nearby Points')\n",
    "plt.ylabel('Frequency')\n",
    "plt.grid(True, alpha=0.3)\n",
    "plt.show()\n",
    "\n",
    "# Find addresses with the most and least nearby points\n",
    "most_nearby = df.loc[df['nearby_points_within_1200m'].idxmax()]\n",
    "least_nearby = df.loc[df['nearby_points_within_1200m'].idxmin()]\n",
    "\n",
    "print(f\"\\nLocation with most nearby points ({most_nearby['nearby_points_within_1200m']} points):\")\n",
    "print(f\"Address: {most_nearby['address']}\")\n",
    "print(f\"Coordinates: ({most_nearby['latitude']}, {most_nearby['longitude']})\")\n",
    "\n",
    "print(f\"\\nLocation with least nearby points ({least_nearby['nearby_points_within_1200m']} points):\")\n",
    "print(f\"Address: {least_nearby['address']}\")\n",
    "print(f\"Coordinates: ({least_nearby['latitude']}, {least_nearby['longitude']})\")\n"
   ]
  }
 ],
 "metadata": {
  "kernelspec": {
   "display_name": "Python 3",
   "language": "python",
   "name": "python3"
  },
  "language_info": {
   "codemirror_mode": {
    "name": "ipython",
    "version": 3
   },
   "file_extension": ".py",
   "mimetype": "text/x-python",
   "name": "python",
   "nbconvert_exporter": "python",
   "pygments_lexer": "ipython3",
   "version": "3.12.1"
  }
 },
 "nbformat": 4,
 "nbformat_minor": 2
}
