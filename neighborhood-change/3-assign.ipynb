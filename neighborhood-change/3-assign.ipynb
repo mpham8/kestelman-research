{
 "cells": [
  {
   "cell_type": "code",
   "execution_count": 10,
   "metadata": {},
   "outputs": [],
   "source": [
    "import folium\n",
    "import numpy as np\n",
    "from sampled_already import sampled_already\n",
    "from long_lat_multifamily_la2 import longitude_latitude_dict\n",
    "import pandas as pd\n",
    "from clusterpanoref import cluster_to_pano_dict\n",
    "from sklearn.neighbors import BallTree\n",
    "import numpy as np\n"
   ]
  },
  {
   "cell_type": "code",
   "execution_count": null,
   "metadata": {},
   "outputs": [],
   "source": [
    "csv_save_file = \"panos.csv\"\n",
    "panos_df = pd.read_csv(csv_save_file)\n",
    "\n",
    "\n",
    "# Get a list of all cluster keys from cluster_to_pano_dict\n",
    "cluster_keys = list(cluster_to_pano_dict.keys())\n",
    "print(f\"Number of clusters: {len(cluster_keys)}\")\n",
    "print(f\"First few cluster keys: {cluster_keys[:5]}\")"
   ]
  },
  {
   "cell_type": "code",
   "execution_count": null,
   "metadata": {},
   "outputs": [],
   "source": [
    "\n",
    "\n",
    "# Extract all cluster locations first\n",
    "cluster_locations = []\n",
    "cluster_keys_list = []\n",
    "\n",
    "for cluster_key in cluster_keys:\n",
    "    if cluster_key in cluster_to_pano_dict and len(cluster_to_pano_dict[cluster_key]) > 0:\n",
    "        pano_id = cluster_to_pano_dict[cluster_key][0]\n",
    "        pano_row = panos_df[panos_df['pano_id'] == pano_id]\n",
    "        if not pano_row.empty:\n",
    "            cluster_lat = pano_row['lat'].values[0]\n",
    "            cluster_lon = pano_row['lon'].values[0]\n",
    "            cluster_locations.append([cluster_lat, cluster_lon])\n",
    "            cluster_keys_list.append(cluster_key)\n",
    "\n",
    "# Convert to radians for BallTree with haversine metric\n",
    "cluster_locations_rad = np.radians(cluster_locations)\n",
    "\n",
    "# Create BallTree for fast spatial queries\n",
    "print(\"creating ball\")\n",
    "tree = BallTree(cluster_locations_rad, metric='haversine')\n",
    "print(\"created ball\")\n",
    "# Earth radius in meters\n",
    "R = 6371000\n",
    "\n",
    "counter = 0\n",
    "for coords in longitude_latitude_dict.values():\n",
    "#   if counter > 10:\n",
    "#       break\n",
    "  \n",
    "  lat = coords[0]\n",
    "  lon = coords[1]\n",
    "  \n",
    "  # Query the BallTree for clusters within 600m\n",
    "  query_point = np.radians([[lat, lon]])\n",
    "  # Convert 600m to radians for the query\n",
    "  radius_in_radians = 600 / R\n",
    "  \n",
    "  # Find all points within radius\n",
    "  indices = tree.query_radius(query_point, radius_in_radians)[0]\n",
    "  \n",
    "  nearby_clusters = []\n",
    "  for idx in indices:\n",
    "      cluster_key = cluster_keys_list[idx]\n",
    "      # Calculate exact distance\n",
    "      cluster_lat, cluster_lon = cluster_locations[idx]\n",
    "      \n",
    "      # Calculate distance in meters (approximate using Haversine formula)\n",
    "      dlat = np.radians(cluster_lat - lat)\n",
    "      dlon = np.radians(cluster_lon - lon)\n",
    "      a = np.sin(dlat/2)**2 + np.cos(np.radians(lat)) * np.cos(np.radians(cluster_lat)) * np.sin(dlon/2)**2\n",
    "      c = 2 * np.arctan2(np.sqrt(a), np.sqrt(1-a))\n",
    "      distance = R * c\n",
    "      \n",
    "      nearby_clusters.append((cluster_key, distance))\n",
    "  \n",
    "  print(f\"Coordinates {lat}, {lon} have {len(nearby_clusters)} clusters within 600m\")\n",
    "  if nearby_clusters:\n",
    "    print(f\"Closest clusters: {sorted(nearby_clusters, key=lambda x: x[1])[:3]}\")\n",
    "  \n",
    "  counter += 1\n",
    "  print(counter)\n",
    "  # Update sampled_already.py with the current coordinates\n"
   ]
  }
 ],
 "metadata": {
  "kernelspec": {
   "display_name": "Python 3",
   "language": "python",
   "name": "python3"
  },
  "language_info": {
   "codemirror_mode": {
    "name": "ipython",
    "version": 3
   },
   "file_extension": ".py",
   "mimetype": "text/x-python",
   "name": "python",
   "nbconvert_exporter": "python",
   "pygments_lexer": "ipython3",
   "version": "3.12.1"
  }
 },
 "nbformat": 4,
 "nbformat_minor": 2
}
